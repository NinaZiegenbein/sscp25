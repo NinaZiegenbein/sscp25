{
 "cells": [
  {
   "cell_type": "code",
   "execution_count": null,
   "id": "648c5e48",
   "metadata": {},
   "outputs": [],
   "source": [
    "from analyze_modes import *"
   ]
  },
  {
   "cell_type": "code",
   "execution_count": null,
   "id": "7bbd1da5",
   "metadata": {},
   "outputs": [],
   "source": [
    "CLINICAL_DATA_XL = \"/Users/inad001/Documents/SSCP25/Data and scripts SSCP25/utils/ClinicalData_OUS_MADPatients_EIVIND_29_4_2021.xlsx\"\n",
    "PCA_SCORES_CSV = \"./PCA_results/pca_scores.csv\"\n",
    "NUM_MODES = 10\n",
    "\n",
    "run_analysis_arrhythmia(CLINICAL_DATA_XL, PCA_SCORES_CSV, NUM_MODES)"
   ]
  },
  {
   "cell_type": "code",
   "execution_count": null,
   "id": "2e8d01ee",
   "metadata": {},
   "outputs": [],
   "source": [
    "run_analysis_fibrosis(CLINICAL_DATA_XL, PCA_SCORES_CSV, NUM_MODES)"
   ]
  },
  {
   "cell_type": "code",
   "execution_count": null,
   "id": "6d1d7f6f",
   "metadata": {},
   "outputs": [],
   "source": [
    "run_analysis_mad(CLINICAL_DATA_XL, PCA_SCORES_CSV, NUM_MODES)"
   ]
  },
  {
   "cell_type": "code",
   "execution_count": null,
   "id": "0363361e",
   "metadata": {},
   "outputs": [],
   "source": []
  }
 ],
 "metadata": {
  "kernelspec": {
   "display_name": "sscp25-vTSm5jc8",
   "language": "python",
   "name": "python3"
  },
  "language_info": {
   "codemirror_mode": {
    "name": "ipython",
    "version": 3
   },
   "file_extension": ".py",
   "mimetype": "text/x-python",
   "name": "python",
   "nbconvert_exporter": "python",
   "pygments_lexer": "ipython3",
   "version": "3.9.6"
  }
 },
 "nbformat": 4,
 "nbformat_minor": 5
}
